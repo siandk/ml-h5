{
 "cells": [
  {
   "cell_type": "code",
   "execution_count": 1,
   "id": "applied-pregnancy",
   "metadata": {},
   "outputs": [],
   "source": [
    "%load_ext tensorboard\n",
    "import tensorflow as tf\n",
    "from tensorflow.keras.preprocessing.image import ImageDataGenerator\n",
    "from tensorflow.keras.models import Sequential\n",
    "from tensorflow.keras.layers import Dense, Dropout, Activation, Flatten, Conv2D, MaxPooling2D\n",
    "from tensorflow.keras.layers.experimental.preprocessing import Rescaling\n",
    "import numpy as np\n",
    "import matplotlib.pyplot as plt\n",
    "import os\n",
    "import cv2\n",
    "from datetime import datetime\n",
    "\n",
    "DATADIR = \"datasets/design-classics\"\n",
    "LOGDIR = \"logs/scalars/\"\n"
   ]
  },
  {
   "cell_type": "code",
   "execution_count": 2,
   "id": "monthly-action",
   "metadata": {},
   "outputs": [],
   "source": [
    "IMG_SIZE = 128\n",
    "BATCH_SIZE = 32\n",
    "COLOR_MODE = \"grayscale\""
   ]
  },
  {
   "cell_type": "code",
   "execution_count": 3,
   "id": "becoming-presentation",
   "metadata": {},
   "outputs": [
    {
     "name": "stdout",
     "output_type": "stream",
     "text": [
      "Found 3540 images belonging to 9 classes.\n",
      "Found 880 images belonging to 9 classes.\n"
     ]
    }
   ],
   "source": [
    "# Add artificial data to set\n",
    "training_data_generator = ImageDataGenerator(\n",
    "    rescale=1./255,\n",
    "    rotation_range=40,\n",
    "    #width_shift_range=0.2,\n",
    "    #height_shift_range=0.2,\n",
    "    #fill_mode=\"nearest\",\n",
    "    #shear_range=0.2,\n",
    "    zoom_range=0.2,\n",
    "    horizontal_flip=True,\n",
    "    validation_split=0.2\n",
    ")\n",
    "\n",
    "# Split test & train data\n",
    "training_generator = training_data_generator.flow_from_directory(\n",
    "    DATADIR,\n",
    "    target_size=(IMG_SIZE, IMG_SIZE),\n",
    "    batch_size=BATCH_SIZE,\n",
    "    color_mode=COLOR_MODE,\n",
    "    class_mode=\"categorical\",\n",
    "    subset=\"training\"\n",
    ")\n",
    "validation_generator = training_data_generator.flow_from_directory(\n",
    "    DATADIR,\n",
    "    target_size=(IMG_SIZE, IMG_SIZE),\n",
    "    batch_size=BATCH_SIZE,\n",
    "    color_mode=COLOR_MODE,\n",
    "    class_mode=\"categorical\",\n",
    "    subset=\"validation\"\n",
    ")\n"
   ]
  },
  {
   "cell_type": "code",
   "execution_count": null,
   "id": "unsigned-elephant",
   "metadata": {},
   "outputs": [],
   "source": []
  },
  {
   "cell_type": "code",
   "execution_count": null,
   "id": "ranking-convergence",
   "metadata": {},
   "outputs": [],
   "source": []
  },
  {
   "cell_type": "code",
   "execution_count": null,
   "id": "cosmetic-feature",
   "metadata": {},
   "outputs": [],
   "source": []
  },
  {
   "cell_type": "code",
   "execution_count": 4,
   "id": "essential-milton",
   "metadata": {},
   "outputs": [
    {
     "name": "stdout",
     "output_type": "stream",
     "text": [
      "Epoch 1/15\n",
      "110/110 [==============================] - 127s 1s/step - loss: 2.2207 - accuracy: 0.1382 - val_loss: 1.9033 - val_accuracy: 0.2812\n",
      "Epoch 2/15\n",
      "110/110 [==============================] - 119s 1s/step - loss: 1.8957 - accuracy: 0.2870 - val_loss: 1.6138 - val_accuracy: 0.3993\n",
      "Epoch 3/15\n",
      "110/110 [==============================] - 123s 1s/step - loss: 1.6323 - accuracy: 0.4311 - val_loss: 1.4067 - val_accuracy: 0.5162\n",
      "Epoch 4/15\n",
      "110/110 [==============================] - 123s 1s/step - loss: 1.4641 - accuracy: 0.4881 - val_loss: 1.4194 - val_accuracy: 0.5255\n",
      "Epoch 5/15\n",
      "110/110 [==============================] - 128s 1s/step - loss: 1.2986 - accuracy: 0.5500 - val_loss: 1.2153 - val_accuracy: 0.5810\n",
      "Epoch 6/15\n",
      "110/110 [==============================] - 123s 1s/step - loss: 1.1574 - accuracy: 0.6013 - val_loss: 1.1007 - val_accuracy: 0.6296\n",
      "Epoch 7/15\n",
      "110/110 [==============================] - 121s 1s/step - loss: 1.0717 - accuracy: 0.6466 - val_loss: 0.9612 - val_accuracy: 0.6562\n",
      "Epoch 8/15\n",
      "110/110 [==============================] - 121s 1s/step - loss: 0.9489 - accuracy: 0.6806 - val_loss: 1.0290 - val_accuracy: 0.6470\n",
      "Epoch 9/15\n",
      "110/110 [==============================] - 118s 1s/step - loss: 0.9355 - accuracy: 0.6912 - val_loss: 0.9928 - val_accuracy: 0.6690\n",
      "Epoch 10/15\n",
      "110/110 [==============================] - 118s 1s/step - loss: 0.8486 - accuracy: 0.7218 - val_loss: 0.9643 - val_accuracy: 0.6597\n",
      "Epoch 11/15\n",
      "110/110 [==============================] - 121s 1s/step - loss: 0.7844 - accuracy: 0.7344 - val_loss: 0.8884 - val_accuracy: 0.7141\n",
      "Epoch 12/15\n",
      "110/110 [==============================] - 118s 1s/step - loss: 0.7570 - accuracy: 0.7559 - val_loss: 0.8271 - val_accuracy: 0.7222\n",
      "Epoch 13/15\n",
      "110/110 [==============================] - 122s 1s/step - loss: 0.6728 - accuracy: 0.7794 - val_loss: 0.8627 - val_accuracy: 0.7083\n",
      "Epoch 14/15\n",
      "110/110 [==============================] - 119s 1s/step - loss: 0.6983 - accuracy: 0.7783 - val_loss: 0.7402 - val_accuracy: 0.7535\n",
      "Epoch 15/15\n",
      "110/110 [==============================] - 115s 1s/step - loss: 0.6698 - accuracy: 0.7949 - val_loss: 0.7443 - val_accuracy: 0.7407\n"
     ]
    }
   ],
   "source": [
    "# Attempt to use ResNet50 as a base for the model\n",
    "#kernel_initializer = tf.keras.initializers.glorot_uniform(seed=1000)\n",
    "#trained_model = tf.keras.applications.ResNet50(\n",
    "#    include_top=False,\n",
    "#    weights=\"imagenet\",\n",
    "    #alpha=0.5,\n",
    "#    input_shape=[IMG_SIZE, IMG_SIZE, 3],\n",
    "#    pooling=\"max\"\n",
    "#)\n",
    "#output = Dense(9, activation=\"softmax\", kernel_initializer=kernel_initializer)(trained_model.output)\n",
    "#model = tf.keras.Model(inputs=trained_model.input, outputs=output)\n",
    "\n",
    "conv_layers = [3]\n",
    "layer_sizes = [128]\n",
    "dense_layers = [1]\n",
    "\n",
    "# Compensate for imbalanced dataset\n",
    "unique, counts = np.unique(training_generator.classes, return_counts=True)\n",
    "class_weights = dict(zip(unique, np.true_divide(counts.sum(), 9*counts)))\n",
    "\n",
    "for dense_layer in dense_layers:\n",
    "    for layer_size in layer_sizes:\n",
    "        for conv_layer in conv_layers:\n",
    "            NAME = \"{}-conv-{}-nodes-{}-dense-{}-DROPOUT-\".format(conv_layer, layer_size, dense_layer, datetime.now().strftime(\"%Y%m%d-%H%M%S\"))\n",
    "            tensorboard_callback = tf.keras.callbacks.TensorBoard(log_dir=LOGDIR + NAME)\n",
    "            model = Sequential()\n",
    "            model.add(Conv2D(layer_size, (3,3), input_shape=(IMG_SIZE, IMG_SIZE, 1 if COLOR_MODE == \"grayscale\" else 3)))\n",
    "            model.add(Activation(\"relu\"))\n",
    "            model.add(MaxPooling2D(pool_size=(2,2)))\n",
    "\n",
    "            for i in range(conv_layer - 1):\n",
    "                model.add(Conv2D(layer_size, (3,3)))\n",
    "                model.add(Activation(\"relu\"))\n",
    "                model.add(MaxPooling2D(pool_size=(2,2)))\n",
    "            \n",
    "            model.add(Flatten())\n",
    "\n",
    "            for i in range(dense_layer):\n",
    "                model.add(Dense(256))\n",
    "                model.add(Activation(\"relu\"))\n",
    "                model.add(Dropout(0.2))\n",
    "                \n",
    "            model.add(Dense(9))\n",
    "            model.add(Activation(\"softmax\"))\n",
    "            \n",
    "            model.compile(loss=tf.keras.losses.CategoricalCrossentropy(),\n",
    "              optimizer=\"adam\",\n",
    "              metrics=[\"accuracy\"])\n",
    "            \n",
    "            model.fit(training_generator,\n",
    "                      epochs=15,\n",
    "                      steps_per_epoch=training_generator.samples // BATCH_SIZE,\n",
    "                      validation_data=validation_generator,\n",
    "                      validation_steps=validation_generator.samples // BATCH_SIZE,\n",
    "                      callbacks=[tensorboard_callback],\n",
    "                      class_weight=class_weights\n",
    "                     )\n"
   ]
  },
  {
   "cell_type": "code",
   "execution_count": 5,
   "id": "weighted-preparation",
   "metadata": {},
   "outputs": [],
   "source": [
    "\n",
    "#%tensorboard --logdir logs/scalars"
   ]
  },
  {
   "cell_type": "code",
   "execution_count": 6,
   "id": "manufactured-louisville",
   "metadata": {},
   "outputs": [],
   "source": [
    "#model.summary()"
   ]
  },
  {
   "cell_type": "code",
   "execution_count": 7,
   "id": "characteristic-instrument",
   "metadata": {},
   "outputs": [],
   "source": [
    "#model.save(\"3C128-1D256-15E-GRAY\")"
   ]
  },
  {
   "cell_type": "code",
   "execution_count": null,
   "id": "sound-latvia",
   "metadata": {},
   "outputs": [],
   "source": []
  }
 ],
 "metadata": {
  "kernelspec": {
   "display_name": "Python 3",
   "language": "python",
   "name": "python3"
  },
  "language_info": {
   "codemirror_mode": {
    "name": "ipython",
    "version": 3
   },
   "file_extension": ".py",
   "mimetype": "text/x-python",
   "name": "python",
   "nbconvert_exporter": "python",
   "pygments_lexer": "ipython3",
   "version": "3.7.2"
  }
 },
 "nbformat": 4,
 "nbformat_minor": 5
}
